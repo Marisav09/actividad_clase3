{
 "cells": [
  {
   "cell_type": "markdown",
   "metadata": {},
   "source": [
    "Actividad de Clase 3: Manipulación de Repositorios y Archivos en GitHub\n",
    "Objetivo: Practicar la creación de un repositorio en GitHub y la manipulación de archivos en formato Jupyter Notebook (.ipynb).\n",
    "\n",
    "\n",
    "Instrucciones:\n",
    "Crear un Repositorio en GitHub: \n",
    "\n",
    "Cada alumno debe crear un repositorio en GitHub llamado actividad_clase3.\n",
    "Asegúrate de que el repositorio sea público.\n",
    "Crear un Archivo Jupyter Notebook:\n",
    "\n",
    "Descarga este archivo de instrucciones como referencia. \n",
    "Crea un nuevo archivo Jupyter Notebook llamado actividad_clase3.ipynb.\n",
    "Editar el Archivo Jupyter Notebook:\n",
    "\n",
    "Abre actividad_clase3.ipynb con Jupyter Notebook.\n",
    "Completa el contenido del archivo según las siguientes especificaciones:\n",
    "Contenido del Archivo actividad_clase3.ipynb:"
   ]
  },
  {
   "cell_type": "markdown",
   "metadata": {},
   "source": [
    "# Listas y diccionarios \n",
    "## Creación y manipulación\n",
    " \n",
    "Ejercicios de Datos Complejos:\n",
    "\n",
    "Datos Simples:\n",
    "\n",
    "Crear una lista de nombres de ciudades.\n",
    "Crear un diccionario con información de empleados (nombre, cargo, salario).\n",
    "Mostrar cómo acceder a un elemento específico en una lista y en un diccionario.\n"
   ]
  },
  {
   "cell_type": "code",
   "execution_count": 3,
   "metadata": {},
   "outputs": [
    {
     "name": "stdout",
     "output_type": "stream",
     "text": [
      "La tercer ciudad es:  Trellew\n",
      "El cargo del segundo empleado es:  Jefe IT\n"
     ]
    }
   ],
   "source": [
    "ciudades = [\"Rio Grande\", \"Ushuaia\", \"Trellew\", \"Rosario\", \"Neuquen\"]\n",
    "empleado = {1:{\"nombre\": \"Juan Gonzalez\", \"cargo\": \"Tecnico en Cs de datos\", \"salario\": 500000},\n",
    "            2:{\"nombre\": \"Julia Lopez\", \"cargo\": \"Jefe IT\", \"salario\": 700000},\n",
    "            3:{\"nombre\": \"Claudio Suarez\", \"cargo\": \"Analista de Datos\", \"salario\": 200000}}\n",
    "print(\"La tercer ciudad es: \",ciudades[2])   \n",
    "print(\"El cargo del segundo empleado es: \",empleado[2][\"cargo\"])   "
   ]
  },
  {
   "cell_type": "markdown",
   "metadata": {},
   "source": [
    "## 1. Manipulación de Listas y Métodos:\n",
    "Crea una lista inicial de números enteros.\n",
    "Utiliza el método .append() para agregar un número al final de la lista.\n",
    "Utiliza el método .extend() para agregar múltiples elementos a la lista.\n",
    "Utiliza el método .insert() para insertar un número en una posición específica de la lista.\n",
    "Muestra cómo utilizar el método .sort() para ordenar la lista de números de forma ascendente."
   ]
  },
  {
   "cell_type": "code",
   "execution_count": 13,
   "metadata": {},
   "outputs": [
    {
     "name": "stdout",
     "output_type": "stream",
     "text": [
      "Los numeros enteros elegidos son:  [6, 5, 4, 2, 1]\n",
      "Los numeros enteros con uno agregado son:  [6, 5, 4, 2, 1, 7]\n",
      "Los numeros ahora son:  [6, 5, 4, 2, 1, 7, 10, 8, 9]\n",
      "Agregando el numero 3 que faltaba, los numeros ahora son:  [6, 5, 3, 4, 2, 1, 7, 10, 8, 9]\n",
      "Los numeros enteros ordenados ahora son:  [1, 2, 3, 4, 5, 6, 7, 8, 9, 10]\n"
     ]
    }
   ],
   "source": [
    "numerosEnteros = [6,5,4,2,1]\n",
    "print(\"Los numeros enteros elegidos son: \", numerosEnteros)\n",
    "numerosEnteros.append(7)\n",
    "print(\"Los numeros enteros con uno agregado son: \", numerosEnteros)\n",
    "numerosEnteros.extend([10,8,9])\n",
    "print(\"Los numeros ahora son: \", numerosEnteros)\n",
    "numerosEnteros.insert(2,3)\n",
    "print(\"Agregando el numero 3 que faltaba, los numeros ahora son: \", numerosEnteros)\n",
    "numerosEnteros.sort()\n",
    "print(\"Los numeros enteros ordenados ahora son: \",numerosEnteros)"
   ]
  },
  {
   "cell_type": "markdown",
   "metadata": {},
   "source": [
    "## 2. Manipulación de Diccionarios y Métodos:\n",
    "\n",
    "Crea un diccionario con información de productos (nombre del producto, precio, cantidad en stock).\n",
    "Utiliza el método .keys() para obtener una lista de las llaves (nombres de productos) en el diccionario.\n",
    "Utiliza el método .values() para obtener una lista de los valores (precios y cantidades) en el diccionario.\n",
    "Utiliza el método .items() para obtener una lista de tuplas con pares clave-valor del diccionario.\n",
    "Muestra cómo utilizar el método .get() para obtener el precio de un producto específico del diccionario."
   ]
  },
  {
   "cell_type": "code",
   "execution_count": 37,
   "metadata": {},
   "outputs": [
    {
     "name": "stdout",
     "output_type": "stream",
     "text": [
      "Las llaves de los productos son:  ['producto1', 'producto2', 'producto3']\n",
      "Los precios y cantidades por producto son:  [{'producto': 'Camisa', 'precio': 20000, 'cantidad en stock': 50}, {'producto': 'Remera', 'precio': 15000, 'cantidad en stock': 45}, {'producto': 'pantalon', 'precio': 35000, 'cantidad en stock': 30}]\n",
      "La lista de tuplas con pares clave-valor del diccionarioes:  [('producto1', {'producto': 'Camisa', 'precio': 20000, 'cantidad en stock': 50}), ('producto2', {'producto': 'Remera', 'precio': 15000, 'cantidad en stock': 45}), ('producto3', {'producto': 'pantalon', 'precio': 35000, 'cantidad en stock': 30})]\n",
      "El precio de la remera es:  15000\n"
     ]
    }
   ],
   "source": [
    "productos = {\"producto1\": {\"producto\": \"Camisa\", \"precio\": 20000,  \"cantidad en stock\": 50 },\n",
    "             \"producto2\": {\"producto\": \"Remera\", \"precio\": 15000,  \"cantidad en stock\": 45 },\n",
    "             \"producto3\": {\"producto\": \"pantalon\", \"precio\": 35000,  \"cantidad en stock\": 30 },\n",
    "             }\n",
    "\n",
    "llaves_productos = list(productos.keys())\n",
    "print(\"Las llaves de los productos son: \", llaves_productos)  \n",
    "\n",
    "valores_productos = list(productos.values())\n",
    "print(\"Los precios y cantidades por producto son: \",valores_productos)\n",
    "\n",
    "tuplas_productos = list(productos.items())\n",
    "print(\"La lista de tuplas con pares clave-valor del diccionarioes: \", tuplas_productos)\n",
    "\n",
    "print(\"El precio de la remera es: \", productos.get(\"producto2\").get(\"precio\"))"
   ]
  },
  {
   "cell_type": "markdown",
   "metadata": {},
   "source": [
    "Datos Complejos:\n",
    "\n",
    "Crear una lista de diccionarios que represente información de libros (título, autor, año de publicación).\n",
    "Crear un diccionario que contenga listas como valores (por ejemplo, un diccionario de estudiantes y sus materias).\n",
    "Mostrar cómo modificar un valor en una lista dentro de un diccionario y viceversa."
   ]
  },
  {
   "cell_type": "code",
   "execution_count": 40,
   "metadata": {},
   "outputs": [
    {
     "name": "stdout",
     "output_type": "stream",
     "text": [
      "[{'título': 'El túnel', 'autor': 'Ernesto Sabato', 'año_publicación': 1048}, {'título': 'Los lanzallamas', 'autor': 'Roberto Arlt', 'año_publicación': 1931}, {'título': 'La casa de los espíritus', 'autor': 'Isabel Allende', 'año_publicación': 1982}]\n",
      "{'Torres': ['Matemáticas', 'Probabilidad', 'Inglés'], 'Rios': ['Ciencias', 'Logica', 'Francés'], 'Sanchez': ['Física', 'Química', 'Biología']}\n",
      "El estudiante Rios cursa:  ['Ciencias', 'Logica', 'Ingles']\n",
      "Los datos actualizados de este llibros son:  {'título': 'Los lanzallamas', 'autor': 'Roberto Arlt', 'año_publicación': 1948}\n"
     ]
    }
   ],
   "source": [
    "libros = [{\"título\": \"El túnel\", \"autor\": \"Ernesto Sabato\", \"año_publicación\": 1048},\n",
    "          {\"título\": \"Los lanzallamas\", \"autor\": \"Roberto Arlt\", \"año_publicación\": 1931},\n",
    "          {\"título\": \"La casa de los espíritus\", \"autor\": \"Isabel Allende\", \"año_publicación\": 1982}]\n",
    "\n",
    "estudiantes = {\"Torres\": [\"Matemáticas\", \"Probabilidad\", \"Inglés\"],\n",
    "               \"Rios\": [\"Ciencias\", \"Logica\", \"Francés\"],\n",
    "               \"Sanchez\": [\"Física\", \"Química\", \"Biología\"]}\n",
    "print(libros)\n",
    "print(estudiantes)\n",
    "estudiantes[\"Rios\"][2] = \"Ingles\"\n",
    "print(\"El estudiante Rios cursa: \", estudiantes[\"Rios\"])  \n",
    " \n",
    "libros[1][\"año_publicación\"] = 1948\n",
    "print(\"Los datos reales de este libro son: \", libros[1]) "
   ]
  }
 ],
 "metadata": {
  "kernelspec": {
   "display_name": "Python 3",
   "language": "python",
   "name": "python3"
  },
  "language_info": {
   "codemirror_mode": {
    "name": "ipython",
    "version": 3
   },
   "file_extension": ".py",
   "mimetype": "text/x-python",
   "name": "python",
   "nbconvert_exporter": "python",
   "pygments_lexer": "ipython3",
   "version": "3.11.5"
  }
 },
 "nbformat": 4,
 "nbformat_minor": 2
}
