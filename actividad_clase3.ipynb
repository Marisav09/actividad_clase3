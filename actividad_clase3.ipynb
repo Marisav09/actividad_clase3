{
 "cells": [
  {
   "cell_type": "markdown",
   "metadata": {},
   "source": [
    "Actividad de Clase 3: Manipulación de Repositorios y Archivos en GitHub\n",
    "Objetivo: Practicar la creación de un repositorio en GitHub y la manipulación de archivos en formato Jupyter Notebook (.ipynb).\n",
    "\n",
    "\n",
    "Instrucciones:\n",
    "Crear un Repositorio en GitHub: \n",
    "\n",
    "Cada alumno debe crear un repositorio en GitHub llamado actividad_clase3.\n",
    "Asegúrate de que el repositorio sea público.\n",
    "Crear un Archivo Jupyter Notebook:\n",
    "\n",
    "Descarga este archivo de instrucciones como referencia. \n",
    "Crea un nuevo archivo Jupyter Notebook llamado actividad_clase3.ipynb.\n",
    "Editar el Archivo Jupyter Notebook:\n",
    "\n",
    "Abre actividad_clase3.ipynb con Jupyter Notebook.\n",
    "Completa el contenido del archivo según las siguientes especificaciones:\n",
    "Contenido del Archivo actividad_clase3.ipynb:"
   ]
  },
  {
   "cell_type": "markdown",
   "metadata": {},
   "source": [
    "# Listas y diccionarios \n",
    "## Creación y manipulación\n",
    " \n",
    "Ejercicios de Datos Complejos:\n",
    "\n",
    "Datos Simples:\n",
    "\n",
    "Crear una lista de nombres de ciudades."
   ]
  },
  {
   "cell_type": "code",
   "execution_count": 5,
   "metadata": {},
   "outputs": [
    {
     "name": "stdout",
     "output_type": "stream",
     "text": [
      "Las ciudades elegidas son: ['Rio Grande', 'Ushuaia', 'Trellew', 'Rosario', 'Neuquen']\n"
     ]
    }
   ],
   "source": [
    "ciudades = [\"Rio Grande\", \"Ushuaia\", \"Trellew\", \"Rosario\", \"Neuquen\"]\n",
    "print(\"Las ciudades elegidas son:\", ciudades)"
   ]
  },
  {
   "cell_type": "markdown",
   "metadata": {},
   "source": [
    "Crear un diccionario con información de empleados (nombre, cargo, salario)."
   ]
  },
  {
   "cell_type": "code",
   "execution_count": 6,
   "metadata": {},
   "outputs": [],
   "source": [
    "empleado = {1:{\"nombre\": \"Juan Gonzalez\", \"cargo\": \"Tecnico en Cs de datos\", \"salario\": 500000},\n",
    "            2:{\"nombre\": \"Julia Lopez\", \"cargo\": \"Jefe IT\", \"salario\": 700000},\n",
    "            3:{\"nombre\": \"Claudio Suarez\", \"cargo\": \"Analista de Datos\", \"salario\": 200000}}  "
   ]
  },
  {
   "cell_type": "markdown",
   "metadata": {},
   "source": [
    "Mostrar cómo acceder a un elemento específico en una lista y en un diccionario."
   ]
  },
  {
   "cell_type": "code",
   "execution_count": 7,
   "metadata": {},
   "outputs": [
    {
     "name": "stdout",
     "output_type": "stream",
     "text": [
      "La tercer ciudad es:  Trellew\n",
      "El cargo del segundo empleado es:  Jefe IT\n"
     ]
    }
   ],
   "source": [
    "print(\"La tercer ciudad es: \",ciudades[2])   \n",
    "print(\"El cargo del segundo empleado es: \",empleado[2][\"cargo\"]) "
   ]
  },
  {
   "cell_type": "markdown",
   "metadata": {},
   "source": [
    "## 1. Manipulación de Listas y Métodos:\n",
    "Crea una lista inicial de números enteros.\n"
   ]
  },
  {
   "cell_type": "code",
   "execution_count": 9,
   "metadata": {},
   "outputs": [
    {
     "name": "stdout",
     "output_type": "stream",
     "text": [
      "Los numeros enteros elegidos son:  [6, 5, 4, 2, 1]\n"
     ]
    }
   ],
   "source": [
    "numerosEnteros = [6,5,4,2,1]\n",
    "print(\"Los numeros enteros elegidos son: \", numerosEnteros)"
   ]
  },
  {
   "cell_type": "markdown",
   "metadata": {},
   "source": [
    "Utiliza el método .append() para agregar un número al final de la lista."
   ]
  },
  {
   "cell_type": "code",
   "execution_count": 10,
   "metadata": {},
   "outputs": [
    {
     "name": "stdout",
     "output_type": "stream",
     "text": [
      "Los numeros enteros con uno agregado son:  [6, 5, 4, 2, 1, 7]\n"
     ]
    }
   ],
   "source": [
    "numerosEnteros.append(7)\n",
    "print(\"Los numeros enteros con uno agregado son: \", numerosEnteros)"
   ]
  },
  {
   "cell_type": "markdown",
   "metadata": {},
   "source": [
    "Utiliza el método .extend() para agregar múltiples elementos a la lista."
   ]
  },
  {
   "cell_type": "code",
   "execution_count": 11,
   "metadata": {},
   "outputs": [
    {
     "name": "stdout",
     "output_type": "stream",
     "text": [
      "Los numeros ahora son:  [6, 5, 4, 2, 1, 7, 10, 8, 9]\n"
     ]
    }
   ],
   "source": [
    "numerosEnteros.extend([10,8,9])\n",
    "print(\"Los numeros ahora son: \", numerosEnteros)"
   ]
  },
  {
   "cell_type": "markdown",
   "metadata": {},
   "source": [
    "Utiliza el método .insert() para insertar un número en una posición específica de la lista."
   ]
  },
  {
   "cell_type": "code",
   "execution_count": 12,
   "metadata": {},
   "outputs": [
    {
     "name": "stdout",
     "output_type": "stream",
     "text": [
      "Agregando el numero 3 que faltaba, los numeros ahora son:  [6, 5, 3, 4, 2, 1, 7, 10, 8, 9]\n"
     ]
    }
   ],
   "source": [
    "numerosEnteros.insert(2,3)\n",
    "print(\"Agregando el numero 3 que faltaba, los numeros ahora son: \", numerosEnteros)"
   ]
  },
  {
   "cell_type": "markdown",
   "metadata": {},
   "source": [
    "Muestra cómo utilizar el método .sort() para ordenar la lista de números de forma ascendente. "
   ]
  },
  {
   "cell_type": "code",
   "execution_count": 13,
   "metadata": {},
   "outputs": [
    {
     "name": "stdout",
     "output_type": "stream",
     "text": [
      "Los numeros enteros ordenados ahora son:  [1, 2, 3, 4, 5, 6, 7, 8, 9, 10]\n"
     ]
    }
   ],
   "source": [
    "numerosEnteros.sort()\n",
    "print(\"Los numeros enteros ordenados ahora son: \",numerosEnteros)"
   ]
  },
  {
   "cell_type": "markdown",
   "metadata": {},
   "source": [
    "## 2. Manipulación de Diccionarios y Métodos:\n",
    "\n",
    "Crea un diccionario con información de productos (nombre del producto, precio, cantidad en stock)."
   ]
  },
  {
   "cell_type": "code",
   "execution_count": 14,
   "metadata": {},
   "outputs": [],
   "source": [
    "productos = {\"producto1\": {\"producto\": \"Camisa\", \"precio\": 20000,  \"cantidad en stock\": 50 },\n",
    "             \"producto2\": {\"producto\": \"Remera\", \"precio\": 15000,  \"cantidad en stock\": 45 },\n",
    "             \"producto3\": {\"producto\": \"pantalon\", \"precio\": 35000,  \"cantidad en stock\": 30 },\n",
    "             }"
   ]
  },
  {
   "cell_type": "markdown",
   "metadata": {},
   "source": [
    "Utiliza el método .keys() para obtener una lista de las llaves (nombres de productos) en el diccionario."
   ]
  },
  {
   "cell_type": "code",
   "execution_count": 15,
   "metadata": {},
   "outputs": [
    {
     "name": "stdout",
     "output_type": "stream",
     "text": [
      "Las llaves de los productos son:  ['producto1', 'producto2', 'producto3']\n"
     ]
    }
   ],
   "source": [
    "llaves_productos = list(productos.keys())\n",
    "print(\"Las llaves de los productos son: \", llaves_productos)  "
   ]
  },
  {
   "cell_type": "markdown",
   "metadata": {},
   "source": [
    "Utiliza el método .values() para obtener una lista de los valores (precios y cantidades) en el diccionario."
   ]
  },
  {
   "cell_type": "code",
   "execution_count": 16,
   "metadata": {},
   "outputs": [
    {
     "name": "stdout",
     "output_type": "stream",
     "text": [
      "Los precios y cantidades por producto son:  [{'producto': 'Camisa', 'precio': 20000, 'cantidad en stock': 50}, {'producto': 'Remera', 'precio': 15000, 'cantidad en stock': 45}, {'producto': 'pantalon', 'precio': 35000, 'cantidad en stock': 30}]\n"
     ]
    }
   ],
   "source": [
    "valores_productos = list(productos.values())\n",
    "print(\"Los precios y cantidades por producto son: \",valores_productos)"
   ]
  },
  {
   "cell_type": "markdown",
   "metadata": {},
   "source": [
    "Utiliza el método .items() para obtener una lista de tuplas con pares clave-valor del diccionario."
   ]
  },
  {
   "cell_type": "code",
   "execution_count": 17,
   "metadata": {},
   "outputs": [
    {
     "name": "stdout",
     "output_type": "stream",
     "text": [
      "La lista de tuplas con pares clave-valor del diccionarioes:  [('producto1', {'producto': 'Camisa', 'precio': 20000, 'cantidad en stock': 50}), ('producto2', {'producto': 'Remera', 'precio': 15000, 'cantidad en stock': 45}), ('producto3', {'producto': 'pantalon', 'precio': 35000, 'cantidad en stock': 30})]\n"
     ]
    }
   ],
   "source": [
    "tuplas_productos = list(productos.items())\n",
    "print(\"La lista de tuplas con pares clave-valor del diccionarioes: \", tuplas_productos)"
   ]
  },
  {
   "cell_type": "markdown",
   "metadata": {},
   "source": [
    "Muestra cómo utilizar el método .get() para obtener el precio de un producto específico del diccionario."
   ]
  },
  {
   "cell_type": "code",
   "execution_count": 18,
   "metadata": {},
   "outputs": [
    {
     "name": "stdout",
     "output_type": "stream",
     "text": [
      "El precio de la remera es:  15000\n"
     ]
    }
   ],
   "source": [
    "print(\"El precio de la remera es: \", productos.get(\"producto2\").get(\"precio\"))"
   ]
  },
  {
   "cell_type": "markdown",
   "metadata": {},
   "source": [
    "## Datos Complejos:\n",
    "\n",
    "Crear una lista de diccionarios que represente información de libros (título, autor, año de publicación)."
   ]
  },
  {
   "cell_type": "code",
   "execution_count": 19,
   "metadata": {},
   "outputs": [
    {
     "name": "stdout",
     "output_type": "stream",
     "text": [
      "[{'título': 'El túnel', 'autor': 'Ernesto Sabato', 'año_publicación': 1048}, {'título': 'Los lanzallamas', 'autor': 'Roberto Arlt', 'año_publicación': 1931}, {'título': 'La casa de los espíritus', 'autor': 'Isabel Allende', 'año_publicación': 1982}]\n"
     ]
    }
   ],
   "source": [
    "libros = [{\"título\": \"El túnel\", \"autor\": \"Ernesto Sabato\", \"año_publicación\": 1048},\n",
    "          {\"título\": \"Los lanzallamas\", \"autor\": \"Roberto Arlt\", \"año_publicación\": 1931},\n",
    "          {\"título\": \"La casa de los espíritus\", \"autor\": \"Isabel Allende\", \"año_publicación\": 1982}]\n",
    "print(libros)"
   ]
  },
  {
   "cell_type": "markdown",
   "metadata": {},
   "source": [
    "Crear un diccionario que contenga listas como valores (por ejemplo, un diccionario de estudiantes y sus materias)."
   ]
  },
  {
   "cell_type": "code",
   "execution_count": 20,
   "metadata": {},
   "outputs": [
    {
     "name": "stdout",
     "output_type": "stream",
     "text": [
      "{'Torres': ['Matemáticas', 'Probabilidad', 'Inglés'], 'Rios': ['Ciencias', 'Logica', 'Francés'], 'Sanchez': ['Física', 'Química', 'Biología']}\n"
     ]
    }
   ],
   "source": [
    "estudiantes = {\"Torres\": [\"Matemáticas\", \"Probabilidad\", \"Inglés\"],\n",
    "               \"Rios\": [\"Ciencias\", \"Logica\", \"Francés\"],\n",
    "               \"Sanchez\": [\"Física\", \"Química\", \"Biología\"]}\n",
    "print(estudiantes)"
   ]
  },
  {
   "cell_type": "markdown",
   "metadata": {},
   "source": [
    "Mostrar cómo modificar un valor en una lista dentro de un diccionario y viceversa."
   ]
  },
  {
   "cell_type": "code",
   "execution_count": 21,
   "metadata": {},
   "outputs": [
    {
     "name": "stdout",
     "output_type": "stream",
     "text": [
      "El estudiante Rios cursa:  ['Ciencias', 'Logica', 'Ingles']\n",
      "Los datos reales de este libro son:  {'título': 'Los lanzallamas', 'autor': 'Roberto Arlt', 'año_publicación': 1948}\n"
     ]
    }
   ],
   "source": [
    "estudiantes[\"Rios\"][2] = \"Ingles\"\n",
    "print(\"El estudiante Rios cursa: \", estudiantes[\"Rios\"])  \n",
    " \n",
    "libros[1][\"año_publicación\"] = 1948\n",
    "print(\"Los datos reales de este libro son: \", libros[1]) "
   ]
  }
 ],
 "metadata": {
  "kernelspec": {
   "display_name": "Python 3",
   "language": "python",
   "name": "python3"
  },
  "language_info": {
   "codemirror_mode": {
    "name": "ipython",
    "version": 3
   },
   "file_extension": ".py",
   "mimetype": "text/x-python",
   "name": "python",
   "nbconvert_exporter": "python",
   "pygments_lexer": "ipython3",
   "version": "3.11.5"
  }
 },
 "nbformat": 4,
 "nbformat_minor": 2
}
